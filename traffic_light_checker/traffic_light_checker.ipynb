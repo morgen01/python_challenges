{
 "cells": [
  {
   "cell_type": "code",
   "execution_count": 277,
   "id": "elect-stanford",
   "metadata": {},
   "outputs": [],
   "source": [
    "############################\n",
    "# Traffic Light Checker\n",
    "#\n",
    "# C. Morgenstern | 16.07.21 \n",
    "############################"
   ]
  },
  {
   "cell_type": "code",
   "execution_count": 278,
   "id": "novel-passenger",
   "metadata": {},
   "outputs": [
    {
     "name": "stdin",
     "output_type": "stream",
     "text": [
      "Traffic light sequence:  R G Y R P R G Y\n"
     ]
    }
   ],
   "source": [
    "# prompt user for input sequence\n",
    "inp = input('Traffic light sequence: ')"
   ]
  },
  {
   "cell_type": "code",
   "execution_count": 279,
   "id": "musical-creator",
   "metadata": {},
   "outputs": [],
   "source": [
    "# specify traffic light codes\n",
    "code = ['R', 'Y', 'G', 'P', 'C', 'X'] "
   ]
  },
  {
   "cell_type": "code",
   "execution_count": 281,
   "id": "protected-postcard",
   "metadata": {},
   "outputs": [
    {
     "name": "stdout",
     "output_type": "stream",
     "text": [
      "ACCEPT\n"
     ]
    }
   ],
   "source": [
    "# validate input\n",
    "# check for spaces in sequence, if none ERROR\n",
    "# check for upper case letters, if none ERROR\n",
    "if (len(max(inp.split(' '), key=len)) != 1) or (inp.isupper() == False): \n",
    "    print(\"ERROR\")  \n",
    "\n",
    "# check if numerical values are present, if ERROR\n",
    "elif any(s.isdigit() for s in inp):\n",
    "    print(\"ERROR\")\n",
    "\n",
    "    \n",
    "else:\n",
    "    # convert string to list and remove whitespace\n",
    "    seq =[x for x in inp if x.strip()]\n",
    "\n",
    "    \n",
    "    # check for length of sequence, if 0 or > 15 ERROR\n",
    "    if len(seq) == 0 or len(seq) > 15:\n",
    "        print(\"ERROR\")\n",
    "        \n",
    "    # check if sequence starts with \"R\", if not REJECT    \n",
    "    elif seq[0] != \"R\" :\n",
    "        print(\"REJECT\")\n",
    "    \n",
    "    else:\n",
    "        \n",
    "        for i in range(len(seq)-1):\n",
    "        \n",
    "            # sequence must always contain one of the letters specified in code, otherwise REJECT\n",
    "            if seq[i] not in code:\n",
    "                print(\"REJECT\")\n",
    "                break\n",
    "        \n",
    "            # sequence must not contain any repetitions, otherwise REJECT\n",
    "            elif seq[i] == seq[i+1]:\n",
    "                print(\"REJECT\")\n",
    "                break\n",
    "        \n",
    "            # flash lights P and C need to be flanked by R lights, otherwise REJECT\n",
    "            elif (seq[i] == \"P\") and (seq[i-1] != \"R\") and (seq[i+1] != \"R\"):\n",
    "                print(\"REJECT\") \n",
    "                break\n",
    "            \n",
    "            elif (seq[i] == \"C\") and (seq[i-1] != \"R\") and (seq[i+1] != \"R\"):\n",
    "                print(\"REJECT\") \n",
    "                break\n",
    "            \n",
    "            # red light needs to be followed by green light or flash sequence, otherwise REJECT\n",
    "            elif (seq[i] == \"R\") and (seq[i+1] != \"G\") and (seq[i+1] != \"C\") and (seq[i+1] != \"P\"):\n",
    "                print(\"REJECT\") \n",
    "                break\n",
    "                \n",
    "            # green light needs to be followed by yellow light, otherwise REJECT\n",
    "            elif (seq[i] == \"G\") and (seq[i+1] != \"Y\"):\n",
    "                print(\"REJECT\") \n",
    "                break\n",
    "        \n",
    "            i =+1\n",
    "            \n",
    "                    \n",
    "        # if sequence meets all requirements         \n",
    "        else:\n",
    "            print(\"ACCEPT\")\n",
    "     "
   ]
  },
  {
   "cell_type": "code",
   "execution_count": null,
   "id": "clinical-broad",
   "metadata": {},
   "outputs": [],
   "source": []
  }
 ],
 "metadata": {
  "kernelspec": {
   "display_name": "Python 3",
   "language": "python",
   "name": "python3"
  },
  "language_info": {
   "codemirror_mode": {
    "name": "ipython",
    "version": 3
   },
   "file_extension": ".py",
   "mimetype": "text/x-python",
   "name": "python",
   "nbconvert_exporter": "python",
   "pygments_lexer": "ipython3",
   "version": "3.9.1"
  }
 },
 "nbformat": 4,
 "nbformat_minor": 5
}
